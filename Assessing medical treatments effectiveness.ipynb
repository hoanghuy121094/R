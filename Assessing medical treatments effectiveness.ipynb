{
 "cells": [
  {
   "cell_type": "markdown",
   "id": "3c238cc9-e8f1-4072-be81-27a3bbc803e1",
   "metadata": {},
   "source": [
    "![](image.jpg)\n",
    "\n",
    "In 1986, a group of urologists in London published a research paper in The British Medical Journal that compared the effectiveness of two different methods to remove kidney stones. Treatment A was open surgery (invasive), and treatment B was percutaneous nephrolithotomy (less invasive). When they looked at the results from 700 patients, treatment B had a higher success rate. However, when they only looked at the subgroup of patients different kidney stone sizes, treatment A had a better success rate. What is going on here? This known statistical phenomenon is called Simpon’s paradox. Simpon's paradox occurs when trends appear in subgroups but disappear or reverse when subgroups are combined.\n",
    "\n",
    "## The Data\n",
    "Available on `kidney_stone_data.csv`\n",
    "\n",
    "| Column      | Type      | Description |\n",
    "|-------------|-----------|-------------|\n",
    "| `treatment` | discrete  | Treatment method, indicated by A or B |\n",
    "| `stone_size`| discrete  | Size of the kidney stone, categorized as 'small' or 'large' |\n",
    "| `success`   | discrete  | Outcome of the treatment: 1=successful, 0=unsuccessful |\n",
    "\n",
    "In this project, we are going to explore Simpon’s paradox using multiple regression and other statistical tools. \n",
    "Our main goal is to determine if Treatment A is superior to Treatment B after accounting for the severity of the kidney stones. "
   ]
  },
  {
   "cell_type": "code",
   "execution_count": 2,
   "id": "70a513e4-ec85-4f7c-890c-36965623217e",
   "metadata": {
    "collapsed": false,
    "executionCancelledAt": null,
    "executionTime": 340,
    "jupyter": {
     "outputs_hidden": false,
     "source_hidden": false
    },
    "lastExecutedAt": 1725465091659,
    "lastExecutedByKernel": "3ccbe61a-041f-43b6-aa5d-4cf7d58cdcc4",
    "lastScheduledRunId": null,
    "lastSuccessfullyExecutedCode": "# Load the necessary packages\nlibrary(readr)\nlibrary(dplyr)\nlibrary(ggplot2)\nlibrary(broom)\n\n# Load the data\ndata <- read_csv(\"kidney_stone_data.csv\")\n\n# Inspect the first five rows\nhead(data, 5)\n\n\n# Calculate the number and frequency of success and failure of each treatment\ndata %>% \n  group_by(treatment, success) %>%\n  summarise(N = n()) %>%\n  mutate(Freq = round(N/sum(N),3))\n\n# Calculate number and frequency of success and failure by stone size for each treatment\nsum_data <- \n  data %>% \n  group_by(treatment, stone_size, success) %>%\n  summarise(N = n()) %>%\n  mutate(Freq = round(N/sum(N),3))\n\n# Print out the data frame we just created\nsum_data\n\n# Run a Chi-squared test\ntrt_ss <- chisq.test(data$treatment, data$stone_size)\n\n# Print out the result in tidy format \ntidy(trt_ss)\n\n# Run a multiple logistic regression\nlogistic_model <- glm(data = data, success ~ stone_size + treatment, family = 'binomial')\n\n# Print out model coefficient table in tidy format\ntidy(logistic_model)\n\n# Save the tidy model output into an object\ntidy_m <- tidy(logistic_model)\n\n# Is small stone more likely to be a success after controlling for treatment option effect?\nsmall_high_success <- \"Yes\"\n\n# Is treatment A significantly better than B?\nA_B_sig <- \"No\"",
    "outputsMetadata": {
     "0": {
      "height": 185,
      "type": "stream"
     },
     "1": {
      "height": 231,
      "type": "dataFrame"
     },
     "2": {
      "height": 101,
      "type": "stream"
     },
     "3": {
      "height": 206,
      "type": "dataFrame"
     },
     "4": {
      "height": 101,
      "type": "stream"
     },
     "5": {
      "height": 306,
      "type": "dataFrame"
     },
     "6": {
      "height": 131,
      "type": "dataFrame"
     },
     "7": {
      "height": 181,
      "type": "dataFrame"
     }
    },
    "vscode": {
     "languageId": "r"
    }
   },
   "outputs": [
    {
     "name": "stderr",
     "output_type": "stream",
     "text": [
      "\u001b[1mRows: \u001b[22m\u001b[34m700\u001b[39m \u001b[1mColumns: \u001b[22m\u001b[34m3\u001b[39m\n",
      "\u001b[36m──\u001b[39m \u001b[1mColumn specification\u001b[22m \u001b[36m────────────────────────────────────────────────────────\u001b[39m\n",
      "\u001b[1mDelimiter:\u001b[22m \",\"\n",
      "\u001b[31mchr\u001b[39m (2): treatment, stone_size\n",
      "\u001b[32mdbl\u001b[39m (1): success\n",
      "\n",
      "\u001b[36mℹ\u001b[39m Use `spec()` to retrieve the full column specification for this data.\n",
      "\u001b[36mℹ\u001b[39m Specify the column types or set `show_col_types = FALSE` to quiet this message.\n"
     ]
    },
    {
     "data": {
      "application/com.datacamp.data-table.v2+json": {
       "table": {
        "data": {
         "index": [
          "1",
          "2",
          "3",
          "4",
          "5"
         ],
         "stone_size": [
          "large",
          "large",
          "large",
          "large",
          "large"
         ],
         "success": [
          1,
          1,
          0,
          1,
          1
         ],
         "treatment": [
          "B",
          "A",
          "A",
          "A",
          "A"
         ]
        },
        "schema": {
         "fields": [
          {
           "name": "index",
           "type": "string"
          },
          {
           "name": "treatment",
           "type": "string"
          },
          {
           "name": "stone_size",
           "type": "string"
          },
          {
           "name": "success",
           "type": "number"
          }
         ],
         "pandas_version": "0.20.0",
         "primaryKey": [
          "index"
         ]
        }
       },
       "total_rows": 5,
       "truncation_type": null
      },
      "text/html": [
       "<table class=\"dataframe\">\n",
       "<caption>A tibble: 5 × 3</caption>\n",
       "<thead>\n",
       "\t<tr><th scope=col>treatment</th><th scope=col>stone_size</th><th scope=col>success</th></tr>\n",
       "\t<tr><th scope=col>&lt;chr&gt;</th><th scope=col>&lt;chr&gt;</th><th scope=col>&lt;dbl&gt;</th></tr>\n",
       "</thead>\n",
       "<tbody>\n",
       "\t<tr><td>B</td><td>large</td><td>1</td></tr>\n",
       "\t<tr><td>A</td><td>large</td><td>1</td></tr>\n",
       "\t<tr><td>A</td><td>large</td><td>0</td></tr>\n",
       "\t<tr><td>A</td><td>large</td><td>1</td></tr>\n",
       "\t<tr><td>A</td><td>large</td><td>1</td></tr>\n",
       "</tbody>\n",
       "</table>\n"
      ],
      "text/latex": [
       "A tibble: 5 × 3\n",
       "\\begin{tabular}{lll}\n",
       " treatment & stone\\_size & success\\\\\n",
       " <chr> & <chr> & <dbl>\\\\\n",
       "\\hline\n",
       "\t B & large & 1\\\\\n",
       "\t A & large & 1\\\\\n",
       "\t A & large & 0\\\\\n",
       "\t A & large & 1\\\\\n",
       "\t A & large & 1\\\\\n",
       "\\end{tabular}\n"
      ],
      "text/markdown": [
       "\n",
       "A tibble: 5 × 3\n",
       "\n",
       "| treatment &lt;chr&gt; | stone_size &lt;chr&gt; | success &lt;dbl&gt; |\n",
       "|---|---|---|\n",
       "| B | large | 1 |\n",
       "| A | large | 1 |\n",
       "| A | large | 0 |\n",
       "| A | large | 1 |\n",
       "| A | large | 1 |\n",
       "\n"
      ],
      "text/plain": [
       "  treatment stone_size success\n",
       "1 B         large      1      \n",
       "2 A         large      1      \n",
       "3 A         large      0      \n",
       "4 A         large      1      \n",
       "5 A         large      1      "
      ]
     },
     "metadata": {},
     "output_type": "display_data"
    },
    {
     "name": "stderr",
     "output_type": "stream",
     "text": [
      "\u001b[1m\u001b[22m`summarise()` has grouped output by 'treatment'. You can override using the\n",
      "`.groups` argument.\n",
      "\u001b[1m\u001b[22mNew names:\n",
      "\u001b[36m•\u001b[39m `` -> `...1`\n"
     ]
    },
    {
     "data": {
      "application/com.datacamp.data-table.v2+json": {
       "table": {
        "data": {
         "Freq": [
          0.22,
          0.78,
          0.174,
          0.826
         ],
         "N": [
          77,
          273,
          61,
          289
         ],
         "index": [
          "1",
          "2",
          "3",
          "4"
         ],
         "success": [
          0,
          1,
          0,
          1
         ],
         "treatment": [
          "A",
          "A",
          "B",
          "B"
         ]
        },
        "schema": {
         "fields": [
          {
           "name": "index",
           "type": "string"
          },
          {
           "name": "treatment",
           "type": "string"
          },
          {
           "name": "success",
           "type": "number"
          },
          {
           "name": "N",
           "type": "integer"
          },
          {
           "name": "Freq",
           "type": "number"
          }
         ],
         "pandas_version": "0.20.0",
         "primaryKey": [
          "index"
         ]
        }
       },
       "total_rows": 4,
       "truncation_type": null
      },
      "text/html": [
       "<table class=\"dataframe\">\n",
       "<caption>A grouped_df: 4 × 4</caption>\n",
       "<thead>\n",
       "\t<tr><th scope=col>treatment</th><th scope=col>success</th><th scope=col>N</th><th scope=col>Freq</th></tr>\n",
       "\t<tr><th scope=col>&lt;chr&gt;</th><th scope=col>&lt;dbl&gt;</th><th scope=col>&lt;int&gt;</th><th scope=col>&lt;dbl&gt;</th></tr>\n",
       "</thead>\n",
       "<tbody>\n",
       "\t<tr><td>A</td><td>0</td><td> 77</td><td>0.220</td></tr>\n",
       "\t<tr><td>A</td><td>1</td><td>273</td><td>0.780</td></tr>\n",
       "\t<tr><td>B</td><td>0</td><td> 61</td><td>0.174</td></tr>\n",
       "\t<tr><td>B</td><td>1</td><td>289</td><td>0.826</td></tr>\n",
       "</tbody>\n",
       "</table>\n"
      ],
      "text/latex": [
       "A grouped\\_df: 4 × 4\n",
       "\\begin{tabular}{llll}\n",
       " treatment & success & N & Freq\\\\\n",
       " <chr> & <dbl> & <int> & <dbl>\\\\\n",
       "\\hline\n",
       "\t A & 0 &  77 & 0.220\\\\\n",
       "\t A & 1 & 273 & 0.780\\\\\n",
       "\t B & 0 &  61 & 0.174\\\\\n",
       "\t B & 1 & 289 & 0.826\\\\\n",
       "\\end{tabular}\n"
      ],
      "text/markdown": [
       "\n",
       "A grouped_df: 4 × 4\n",
       "\n",
       "| treatment &lt;chr&gt; | success &lt;dbl&gt; | N &lt;int&gt; | Freq &lt;dbl&gt; |\n",
       "|---|---|---|---|\n",
       "| A | 0 |  77 | 0.220 |\n",
       "| A | 1 | 273 | 0.780 |\n",
       "| B | 0 |  61 | 0.174 |\n",
       "| B | 1 | 289 | 0.826 |\n",
       "\n"
      ],
      "text/plain": [
       "  treatment success N   Freq \n",
       "1 A         0        77 0.220\n",
       "2 A         1       273 0.780\n",
       "3 B         0        61 0.174\n",
       "4 B         1       289 0.826"
      ]
     },
     "metadata": {},
     "output_type": "display_data"
    },
    {
     "name": "stderr",
     "output_type": "stream",
     "text": [
      "\u001b[1m\u001b[22m`summarise()` has grouped output by 'treatment', 'stone_size'. You can override\n",
      "using the `.groups` argument.\n",
      "\u001b[1m\u001b[22mNew names:\n",
      "\u001b[36m•\u001b[39m `` -> `...1`\n"
     ]
    },
    {
     "data": {
      "application/com.datacamp.data-table.v2+json": {
       "table": {
        "data": {
         "Freq": [
          0.27,
          0.73,
          0.069,
          0.931,
          0.312,
          0.688,
          0.133,
          0.867
         ],
         "N": [
          71,
          192,
          6,
          81,
          25,
          55,
          36,
          234
         ],
         "index": [
          "1",
          "2",
          "3",
          "4",
          "5",
          "6",
          "7",
          "8"
         ],
         "stone_size": [
          "large",
          "large",
          "small",
          "small",
          "large",
          "large",
          "small",
          "small"
         ],
         "success": [
          0,
          1,
          0,
          1,
          0,
          1,
          0,
          1
         ],
         "treatment": [
          "A",
          "A",
          "A",
          "A",
          "B",
          "B",
          "B",
          "B"
         ]
        },
        "schema": {
         "fields": [
          {
           "name": "index",
           "type": "string"
          },
          {
           "name": "treatment",
           "type": "string"
          },
          {
           "name": "stone_size",
           "type": "string"
          },
          {
           "name": "success",
           "type": "number"
          },
          {
           "name": "N",
           "type": "integer"
          },
          {
           "name": "Freq",
           "type": "number"
          }
         ],
         "pandas_version": "0.20.0",
         "primaryKey": [
          "index"
         ]
        }
       },
       "total_rows": 8,
       "truncation_type": null
      },
      "text/html": [
       "<table class=\"dataframe\">\n",
       "<caption>A grouped_df: 8 × 5</caption>\n",
       "<thead>\n",
       "\t<tr><th scope=col>treatment</th><th scope=col>stone_size</th><th scope=col>success</th><th scope=col>N</th><th scope=col>Freq</th></tr>\n",
       "\t<tr><th scope=col>&lt;chr&gt;</th><th scope=col>&lt;chr&gt;</th><th scope=col>&lt;dbl&gt;</th><th scope=col>&lt;int&gt;</th><th scope=col>&lt;dbl&gt;</th></tr>\n",
       "</thead>\n",
       "<tbody>\n",
       "\t<tr><td>A</td><td>large</td><td>0</td><td> 71</td><td>0.270</td></tr>\n",
       "\t<tr><td>A</td><td>large</td><td>1</td><td>192</td><td>0.730</td></tr>\n",
       "\t<tr><td>A</td><td>small</td><td>0</td><td>  6</td><td>0.069</td></tr>\n",
       "\t<tr><td>A</td><td>small</td><td>1</td><td> 81</td><td>0.931</td></tr>\n",
       "\t<tr><td>B</td><td>large</td><td>0</td><td> 25</td><td>0.312</td></tr>\n",
       "\t<tr><td>B</td><td>large</td><td>1</td><td> 55</td><td>0.688</td></tr>\n",
       "\t<tr><td>B</td><td>small</td><td>0</td><td> 36</td><td>0.133</td></tr>\n",
       "\t<tr><td>B</td><td>small</td><td>1</td><td>234</td><td>0.867</td></tr>\n",
       "</tbody>\n",
       "</table>\n"
      ],
      "text/latex": [
       "A grouped\\_df: 8 × 5\n",
       "\\begin{tabular}{lllll}\n",
       " treatment & stone\\_size & success & N & Freq\\\\\n",
       " <chr> & <chr> & <dbl> & <int> & <dbl>\\\\\n",
       "\\hline\n",
       "\t A & large & 0 &  71 & 0.270\\\\\n",
       "\t A & large & 1 & 192 & 0.730\\\\\n",
       "\t A & small & 0 &   6 & 0.069\\\\\n",
       "\t A & small & 1 &  81 & 0.931\\\\\n",
       "\t B & large & 0 &  25 & 0.312\\\\\n",
       "\t B & large & 1 &  55 & 0.688\\\\\n",
       "\t B & small & 0 &  36 & 0.133\\\\\n",
       "\t B & small & 1 & 234 & 0.867\\\\\n",
       "\\end{tabular}\n"
      ],
      "text/markdown": [
       "\n",
       "A grouped_df: 8 × 5\n",
       "\n",
       "| treatment &lt;chr&gt; | stone_size &lt;chr&gt; | success &lt;dbl&gt; | N &lt;int&gt; | Freq &lt;dbl&gt; |\n",
       "|---|---|---|---|---|\n",
       "| A | large | 0 |  71 | 0.270 |\n",
       "| A | large | 1 | 192 | 0.730 |\n",
       "| A | small | 0 |   6 | 0.069 |\n",
       "| A | small | 1 |  81 | 0.931 |\n",
       "| B | large | 0 |  25 | 0.312 |\n",
       "| B | large | 1 |  55 | 0.688 |\n",
       "| B | small | 0 |  36 | 0.133 |\n",
       "| B | small | 1 | 234 | 0.867 |\n",
       "\n"
      ],
      "text/plain": [
       "  treatment stone_size success N   Freq \n",
       "1 A         large      0        71 0.270\n",
       "2 A         large      1       192 0.730\n",
       "3 A         small      0         6 0.069\n",
       "4 A         small      1        81 0.931\n",
       "5 B         large      0        25 0.312\n",
       "6 B         large      1        55 0.688\n",
       "7 B         small      0        36 0.133\n",
       "8 B         small      1       234 0.867"
      ]
     },
     "metadata": {},
     "output_type": "display_data"
    },
    {
     "data": {
      "application/com.datacamp.data-table.v2+json": {
       "table": {
        "data": {
         "index": [
          "1"
         ],
         "method": [
          "Pearson's Chi-squared test with Yates' continuity correction"
         ],
         "p.value": [
          4.395e-43
         ],
         "parameter": [
          1
         ],
         "statistic": [
          189.3557
         ]
        },
        "schema": {
         "fields": [
          {
           "name": "index",
           "type": "string"
          },
          {
           "name": "statistic",
           "type": "number"
          },
          {
           "name": "p.value",
           "type": "number"
          },
          {
           "name": "parameter",
           "type": "integer"
          },
          {
           "name": "method",
           "type": "string"
          }
         ],
         "pandas_version": "0.20.0",
         "primaryKey": [
          "index"
         ]
        }
       },
       "total_rows": 1,
       "truncation_type": null
      },
      "text/html": [
       "<table class=\"dataframe\">\n",
       "<caption>A tibble: 1 × 4</caption>\n",
       "<thead>\n",
       "\t<tr><th scope=col>statistic</th><th scope=col>p.value</th><th scope=col>parameter</th><th scope=col>method</th></tr>\n",
       "\t<tr><th scope=col>&lt;dbl&gt;</th><th scope=col>&lt;dbl&gt;</th><th scope=col>&lt;int&gt;</th><th scope=col>&lt;chr&gt;</th></tr>\n",
       "</thead>\n",
       "<tbody>\n",
       "\t<tr><td>189.3557</td><td>4.395009e-43</td><td>1</td><td>Pearson's Chi-squared test with Yates' continuity correction</td></tr>\n",
       "</tbody>\n",
       "</table>\n"
      ],
      "text/latex": [
       "A tibble: 1 × 4\n",
       "\\begin{tabular}{llll}\n",
       " statistic & p.value & parameter & method\\\\\n",
       " <dbl> & <dbl> & <int> & <chr>\\\\\n",
       "\\hline\n",
       "\t 189.3557 & 4.395009e-43 & 1 & Pearson's Chi-squared test with Yates' continuity correction\\\\\n",
       "\\end{tabular}\n"
      ],
      "text/markdown": [
       "\n",
       "A tibble: 1 × 4\n",
       "\n",
       "| statistic &lt;dbl&gt; | p.value &lt;dbl&gt; | parameter &lt;int&gt; | method &lt;chr&gt; |\n",
       "|---|---|---|---|\n",
       "| 189.3557 | 4.395009e-43 | 1 | Pearson's Chi-squared test with Yates' continuity correction |\n",
       "\n"
      ],
      "text/plain": [
       "          statistic p.value      parameter\n",
       "X-squared 189.3557  4.395009e-43 1        \n",
       "          method                                                      \n",
       "X-squared Pearson's Chi-squared test with Yates' continuity correction"
      ]
     },
     "metadata": {},
     "output_type": "display_data"
    },
    {
     "data": {
      "application/com.datacamp.data-table.v2+json": {
       "table": {
        "data": {
         "estimate": [
          1.0332,
          1.2606,
          -0.3572
         ],
         "index": [
          "1",
          "2",
          "3"
         ],
         "p.value": [
          1.5464e-14,
          1.3328e-7,
          0.1189
         ],
         "statistic": [
          7.6836,
          5.2743,
          -1.5594
         ],
         "std.error": [
          0.1345,
          0.239,
          0.2291
         ],
         "term": [
          "(Intercept)",
          "stone_sizesmall",
          "treatmentB"
         ]
        },
        "schema": {
         "fields": [
          {
           "name": "index",
           "type": "string"
          },
          {
           "name": "term",
           "type": "string"
          },
          {
           "name": "estimate",
           "type": "number"
          },
          {
           "name": "std.error",
           "type": "number"
          },
          {
           "name": "statistic",
           "type": "number"
          },
          {
           "name": "p.value",
           "type": "number"
          }
         ],
         "pandas_version": "0.20.0",
         "primaryKey": [
          "index"
         ]
        }
       },
       "total_rows": 3,
       "truncation_type": null
      },
      "text/html": [
       "<table class=\"dataframe\">\n",
       "<caption>A tibble: 3 × 5</caption>\n",
       "<thead>\n",
       "\t<tr><th scope=col>term</th><th scope=col>estimate</th><th scope=col>std.error</th><th scope=col>statistic</th><th scope=col>p.value</th></tr>\n",
       "\t<tr><th scope=col>&lt;chr&gt;</th><th scope=col>&lt;dbl&gt;</th><th scope=col>&lt;dbl&gt;</th><th scope=col>&lt;dbl&gt;</th><th scope=col>&lt;dbl&gt;</th></tr>\n",
       "</thead>\n",
       "<tbody>\n",
       "\t<tr><td>(Intercept)    </td><td> 1.0332140</td><td>0.1344695</td><td> 7.683629</td><td>1.546436e-14</td></tr>\n",
       "\t<tr><td>stone_sizesmall</td><td> 1.2605654</td><td>0.2390027</td><td> 5.274272</td><td>1.332838e-07</td></tr>\n",
       "\t<tr><td>treatmentB     </td><td>-0.3572287</td><td>0.2290792</td><td>-1.559411</td><td>1.188991e-01</td></tr>\n",
       "</tbody>\n",
       "</table>\n"
      ],
      "text/latex": [
       "A tibble: 3 × 5\n",
       "\\begin{tabular}{lllll}\n",
       " term & estimate & std.error & statistic & p.value\\\\\n",
       " <chr> & <dbl> & <dbl> & <dbl> & <dbl>\\\\\n",
       "\\hline\n",
       "\t (Intercept)     &  1.0332140 & 0.1344695 &  7.683629 & 1.546436e-14\\\\\n",
       "\t stone\\_sizesmall &  1.2605654 & 0.2390027 &  5.274272 & 1.332838e-07\\\\\n",
       "\t treatmentB      & -0.3572287 & 0.2290792 & -1.559411 & 1.188991e-01\\\\\n",
       "\\end{tabular}\n"
      ],
      "text/markdown": [
       "\n",
       "A tibble: 3 × 5\n",
       "\n",
       "| term &lt;chr&gt; | estimate &lt;dbl&gt; | std.error &lt;dbl&gt; | statistic &lt;dbl&gt; | p.value &lt;dbl&gt; |\n",
       "|---|---|---|---|---|\n",
       "| (Intercept)     |  1.0332140 | 0.1344695 |  7.683629 | 1.546436e-14 |\n",
       "| stone_sizesmall |  1.2605654 | 0.2390027 |  5.274272 | 1.332838e-07 |\n",
       "| treatmentB      | -0.3572287 | 0.2290792 | -1.559411 | 1.188991e-01 |\n",
       "\n"
      ],
      "text/plain": [
       "  term            estimate   std.error statistic p.value     \n",
       "1 (Intercept)      1.0332140 0.1344695  7.683629 1.546436e-14\n",
       "2 stone_sizesmall  1.2605654 0.2390027  5.274272 1.332838e-07\n",
       "3 treatmentB      -0.3572287 0.2290792 -1.559411 1.188991e-01"
      ]
     },
     "metadata": {},
     "output_type": "display_data"
    }
   ],
   "source": [
    "# Load the necessary packages\n",
    "library(readr)\n",
    "library(dplyr)\n",
    "library(ggplot2)\n",
    "library(broom)\n",
    "\n",
    "# Load the data\n",
    "data <- read_csv(\"kidney_stone_data.csv\")\n",
    "\n",
    "# Inspect the first five rows\n",
    "head(data, 5)\n",
    "\n",
    "\n",
    "# Calculate the number and frequency of success and failure of each treatment\n",
    "data %>% \n",
    "  group_by(treatment, success) %>%\n",
    "  summarise(N = n()) %>%\n",
    "  mutate(Freq = round(N/sum(N),3))\n",
    "\n",
    "# Calculate number and frequency of success and failure by stone size for each treatment\n",
    "sum_data <- \n",
    "  data %>% \n",
    "  group_by(treatment, stone_size, success) %>%\n",
    "  summarise(N = n()) %>%\n",
    "  mutate(Freq = round(N/sum(N),3))\n",
    "\n",
    "# Print out the data frame we just created\n",
    "sum_data\n",
    "\n",
    "# Run a Chi-squared test\n",
    "trt_ss <- chisq.test(data$treatment, data$stone_size)\n",
    "\n",
    "# Print out the result in tidy format \n",
    "tidy(trt_ss)\n",
    "\n",
    "# Run a multiple logistic regression\n",
    "logistic_model <- glm(data = data, success ~ stone_size + treatment, family = 'binomial')\n",
    "\n",
    "# Print out model coefficient table in tidy format\n",
    "tidy(logistic_model)\n",
    "\n",
    "# Save the tidy model output into an object\n",
    "tidy_m <- tidy(logistic_model)\n",
    "\n",
    "# Is small stone more likely to be a success after controlling for treatment option effect?\n",
    "small_high_success <- \"Yes\"\n",
    "\n",
    "# Is treatment A significantly better than B?\n",
    "A_B_sig <- \"No\""
   ]
  }
 ],
 "metadata": {
  "colab": {
   "name": "Welcome to DataCamp Workspaces.ipynb",
   "provenance": []
  },
  "editor": "DataCamp Workspace",
  "kernelspec": {
   "display_name": "R",
   "language": "R",
   "name": "ir"
  },
  "language_info": {
   "codemirror_mode": "r",
   "file_extension": ".r",
   "mimetype": "text/x-r-source",
   "name": "R",
   "pygments_lexer": "r",
   "version": "4.2.1"
  }
 },
 "nbformat": 4,
 "nbformat_minor": 5
}
